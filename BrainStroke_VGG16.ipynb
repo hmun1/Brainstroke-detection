{
 "cells": [
  {
   "cell_type": "code",
   "execution_count": null,
   "metadata": {
    "colab": {
     "base_uri": "https://localhost:8080/"
    },
    "id": "bkw3f1P5xxyj",
    "outputId": "c37c4621-f2e3-46da-96d0-327ab201e3b5"
   },
   "outputs": [
    {
     "name": "stdout",
     "output_type": "stream",
     "text": [
      "Mounted at /content/gdrive\n"
     ]
    }
   ],
   "source": [
    "from google.colab import drive\n",
    "drive.mount('/content/gdrive')"
   ]
  },
  {
   "cell_type": "code",
   "execution_count": null,
   "metadata": {
    "id": "Kv-foW7PAI8h"
   },
   "outputs": [],
   "source": [
    "from tensorflow.keras.applications.vgg16 import VGG16\n",
    "from tensorflow.keras.preprocessing import image\n",
    "from tensorflow.keras.applications.vgg16 import preprocess_input\n",
    "from tensorflow.keras.models import Model\n",
    "from tensorflow.keras.layers import Dense, GlobalAveragePooling2D\n",
    "from tensorflow.keras.optimizers import Adam\n",
    "\n",
    "from tensorflow.keras.preprocessing.image import ImageDataGenerator"
   ]
  },
  {
   "cell_type": "code",
   "execution_count": null,
   "metadata": {
    "id": "H_mGiXFgAVjr"
   },
   "outputs": [],
   "source": [
    "train_dir = (\"/content/gdrive/MyDrive/BrainStroke/Brain_Stroke_CT-SCAN_image/Train\")\n",
    "\n",
    "test_dir = (\"/content/gdrive/MyDrive/BrainStroke/Brain_Stroke_CT-SCAN_image/Test\")\n",
    "\n",
    "validation_dir = (\"/content/gdrive/MyDrive/BrainStroke/Brain_Stroke_CT-SCAN_image/Validation\")"
   ]
  },
  {
   "cell_type": "code",
   "execution_count": null,
   "metadata": {
    "id": "ds02B24NAc-r"
   },
   "outputs": [],
   "source": [
    "img_width, img_height = 256, 256"
   ]
  },
  {
   "cell_type": "code",
   "execution_count": null,
   "metadata": {
    "id": "PkuJzSl8Afua"
   },
   "outputs": [],
   "source": [
    "train_datagen = ImageDataGenerator(rescale=1/255.0)\n",
    "\n",
    "test_datagen = ImageDataGenerator(rescale=1/255.0)"
   ]
  },
  {
   "cell_type": "code",
   "execution_count": null,
   "metadata": {
    "colab": {
     "base_uri": "https://localhost:8080/"
    },
    "id": "8FEk8d7Xsw3O",
    "outputId": "75f784f5-bccc-4773-9137-f5ffc5564e02"
   },
   "outputs": [
    {
     "name": "stdout",
     "output_type": "stream",
     "text": [
      "Found 1843 images belonging to 2 classes.\n"
     ]
    }
   ],
   "source": [
    "train_generator = train_datagen.flow_from_directory(\n",
    "    train_dir,\n",
    "    target_size=(img_width, img_height),\n",
    "    batch_size=32,\n",
    "    class_mode='binary'\n",
    ")"
   ]
  },
  {
   "cell_type": "code",
   "execution_count": null,
   "metadata": {
    "colab": {
     "base_uri": "https://localhost:8080/"
    },
    "id": "C_Ee3KnDsz9f",
    "outputId": "49d507c5-8df8-456a-ba48-f7fbb5fe96cb"
   },
   "outputs": [
    {
     "name": "stdout",
     "output_type": "stream",
     "text": [
      "Found 235 images belonging to 2 classes.\n"
     ]
    }
   ],
   "source": [
    "validation_generator = test_datagen.flow_from_directory(\n",
    "    validation_dir,\n",
    "    target_size=(img_width, img_height),\n",
    "    batch_size=32,\n",
    "    class_mode='binary'\n",
    ")"
   ]
  },
  {
   "cell_type": "code",
   "execution_count": null,
   "metadata": {
    "colab": {
     "base_uri": "https://localhost:8080/"
    },
    "id": "tMx81Wb8Akhw",
    "outputId": "b7478f36-8adc-4802-f7bd-28d7a0c70c7b"
   },
   "outputs": [
    {
     "name": "stdout",
     "output_type": "stream",
     "text": [
      "Downloading data from https://storage.googleapis.com/tensorflow/keras-applications/vgg16/vgg16_weights_tf_dim_ordering_tf_kernels_notop.h5\n",
      "58889256/58889256 [==============================] - 1s 0us/step\n",
      "Model: \"model\"\n",
      "_________________________________________________________________\n",
      " Layer (type)                Output Shape              Param #   \n",
      "=================================================================\n",
      " input_1 (InputLayer)        [(None, 256, 256, 3)]     0         \n",
      "                                                                 \n",
      " block1_conv1 (Conv2D)       (None, 256, 256, 64)      1792      \n",
      "                                                                 \n",
      " block1_conv2 (Conv2D)       (None, 256, 256, 64)      36928     \n",
      "                                                                 \n",
      " block1_pool (MaxPooling2D)  (None, 128, 128, 64)      0         \n",
      "                                                                 \n",
      " block2_conv1 (Conv2D)       (None, 128, 128, 128)     73856     \n",
      "                                                                 \n",
      " block2_conv2 (Conv2D)       (None, 128, 128, 128)     147584    \n",
      "                                                                 \n",
      " block2_pool (MaxPooling2D)  (None, 64, 64, 128)       0         \n",
      "                                                                 \n",
      " block3_conv1 (Conv2D)       (None, 64, 64, 256)       295168    \n",
      "                                                                 \n",
      " block3_conv2 (Conv2D)       (None, 64, 64, 256)       590080    \n",
      "                                                                 \n",
      " block3_conv3 (Conv2D)       (None, 64, 64, 256)       590080    \n",
      "                                                                 \n",
      " block3_pool (MaxPooling2D)  (None, 32, 32, 256)       0         \n",
      "                                                                 \n",
      " block4_conv1 (Conv2D)       (None, 32, 32, 512)       1180160   \n",
      "                                                                 \n",
      " block4_conv2 (Conv2D)       (None, 32, 32, 512)       2359808   \n",
      "                                                                 \n",
      " block4_conv3 (Conv2D)       (None, 32, 32, 512)       2359808   \n",
      "                                                                 \n",
      " block4_pool (MaxPooling2D)  (None, 16, 16, 512)       0         \n",
      "                                                                 \n",
      " block5_conv1 (Conv2D)       (None, 16, 16, 512)       2359808   \n",
      "                                                                 \n",
      " block5_conv2 (Conv2D)       (None, 16, 16, 512)       2359808   \n",
      "                                                                 \n",
      " block5_conv3 (Conv2D)       (None, 16, 16, 512)       2359808   \n",
      "                                                                 \n",
      " block5_pool (MaxPooling2D)  (None, 8, 8, 512)         0         \n",
      "                                                                 \n",
      " global_average_pooling2d (  (None, 512)               0         \n",
      " GlobalAveragePooling2D)                                         \n",
      "                                                                 \n",
      " dense (Dense)               (None, 256)               131328    \n",
      "                                                                 \n",
      " dense_1 (Dense)             (None, 128)               32896     \n",
      "                                                                 \n",
      " dense_2 (Dense)             (None, 1)                 129       \n",
      "                                                                 \n",
      "=================================================================\n",
      "Total params: 14879041 (56.76 MB)\n",
      "Trainable params: 164353 (642.00 KB)\n",
      "Non-trainable params: 14714688 (56.13 MB)\n",
      "_________________________________________________________________\n"
     ]
    }
   ],
   "source": [
    "# Load pre-trained ResNet152 model\n",
    "base_model = VGG16(weights='imagenet', include_top=False, input_shape=(img_width, img_height, 3))\n",
    "\n",
    "# Freeze the layers in the base model\n",
    "for layer in base_model.layers:\n",
    "    layer.trainable = False\n",
    "\n",
    "# Add custom layers on top of the base model\n",
    "x = base_model.output\n",
    "x = GlobalAveragePooling2D()(x)\n",
    "x = Dense(256, activation='relu')(x)\n",
    "x = Dense(128, activation='relu')(x)\n",
    "predictions = Dense(1, activation='sigmoid')(x)\n",
    "\n",
    "# Create the final model\n",
    "model = Model(inputs=base_model.input, outputs=predictions)\n",
    "\n",
    "\n",
    "model.summary()"
   ]
  },
  {
   "cell_type": "code",
   "execution_count": null,
   "metadata": {
    "id": "eToL0EKrAnLh"
   },
   "outputs": [],
   "source": [
    "model.compile(\n",
    "    optimizer='adam', loss='binary_crossentropy', metrics=['accuracy']\n",
    "    )"
   ]
  },
  {
   "cell_type": "code",
   "execution_count": null,
   "metadata": {
    "colab": {
     "base_uri": "https://localhost:8080/"
    },
    "id": "wEgZ4qSTyxvd",
    "outputId": "969dc10d-44e7-4a29-8528-e34da1c02092"
   },
   "outputs": [
    {
     "name": "stdout",
     "output_type": "stream",
     "text": [
      "Epoch 1/10\n",
      "58/58 [==============================] - 1497s 26s/step - loss: 0.6756 - accuracy: 0.5773 - val_loss: 0.6204 - val_accuracy: 0.6681\n",
      "Epoch 2/10\n",
      "58/58 [==============================] - 1472s 25s/step - loss: 0.6579 - accuracy: 0.6099 - val_loss: 0.6382 - val_accuracy: 0.6894\n",
      "Epoch 3/10\n",
      "58/58 [==============================] - 1473s 25s/step - loss: 0.6442 - accuracy: 0.6305 - val_loss: 0.5908 - val_accuracy: 0.6809\n",
      "Epoch 4/10\n",
      "58/58 [==============================] - 1463s 25s/step - loss: 0.6160 - accuracy: 0.6663 - val_loss: 0.6131 - val_accuracy: 0.6766\n",
      "Epoch 5/10\n",
      "58/58 [==============================] - 1484s 26s/step - loss: 0.5818 - accuracy: 0.6907 - val_loss: 0.5871 - val_accuracy: 0.7064\n",
      "Epoch 6/10\n",
      "58/58 [==============================] - 1456s 25s/step - loss: 0.5817 - accuracy: 0.6945 - val_loss: 0.5301 - val_accuracy: 0.7447\n",
      "Epoch 7/10\n",
      "58/58 [==============================] - 1457s 25s/step - loss: 0.5376 - accuracy: 0.7292 - val_loss: 0.5814 - val_accuracy: 0.6723\n",
      "Epoch 8/10\n",
      "58/58 [==============================] - 1455s 25s/step - loss: 0.5391 - accuracy: 0.7092 - val_loss: 0.5564 - val_accuracy: 0.7191\n",
      "Epoch 9/10\n",
      "58/58 [==============================] - 1456s 25s/step - loss: 0.5009 - accuracy: 0.7547 - val_loss: 0.5505 - val_accuracy: 0.7277\n",
      "Epoch 10/10\n",
      "58/58 [==============================] - 1458s 25s/step - loss: 0.5201 - accuracy: 0.7390 - val_loss: 0.6320 - val_accuracy: 0.6340\n"
     ]
    }
   ],
   "source": [
    "history = model.fit(train_generator, epochs=10, validation_data=validation_generator)"
   ]
  },
  {
   "cell_type": "code",
   "execution_count": null,
   "metadata": {
    "id": "v3GXN3XPAuOM"
   },
   "outputs": [],
   "source": [
    "test_generator = test_datagen.flow_from_directory(\n",
    "    test_dir,\n",
    "    target_size=(img_width, img_height),\n",
    "    batch_size=32,\n",
    "    class_mode='binary',\n",
    "    shuffle=False\n",
    ")"
   ]
  },
  {
   "cell_type": "code",
   "execution_count": null,
   "metadata": {
    "colab": {
     "background_save": true
    },
    "id": "Q4dHcJoGAwiX",
    "outputId": "64412860-aa62-4134-c2e1-d9be0888ebcc"
   },
   "outputs": [
    {
     "name": "stdout",
     "output_type": "stream",
     "text": [
      "14/14 [==============================] - 334s 23s/step - loss: 0.4592 - accuracy: 0.7826\n",
      "Test Loss: 0.4591868817806244\n",
      "Test Accuracy: 0.782608687877655\n"
     ]
    }
   ],
   "source": [
    "loss, accuracy = model.evaluate(test_generator)\n",
    "print('Test Loss:', loss)\n",
    "print('Test Accuracy:', accuracy)"
   ]
  },
  {
   "cell_type": "code",
   "execution_count": null,
   "metadata": {
    "id": "HLMpD_eEA11l"
   },
   "outputs": [],
   "source": []
  },
  {
   "cell_type": "code",
   "execution_count": null,
   "metadata": {
    "colab": {
     "base_uri": "https://localhost:8080/",
     "height": 401
    },
    "id": "j0ehXoHkA1Z_",
    "outputId": "ac68bc45-1dd8-416a-fa3d-e858398e232c"
   },
   "outputs": [
    {
     "ename": "ValueError",
     "evalue": "No such layer: conv2d_1. Existing layers are: ['input_1', 'block1_conv1', 'block1_conv2', 'block1_pool', 'block2_conv1', 'block2_conv2', 'block2_pool', 'block3_conv1', 'block3_conv2', 'block3_conv3', 'block3_pool', 'block4_conv1', 'block4_conv2', 'block4_conv3', 'block4_pool', 'block5_conv1', 'block5_conv2', 'block5_conv3', 'block5_pool', 'global_average_pooling2d', 'dense', 'dense_1', 'dense_2'].",
     "output_type": "error",
     "traceback": [
      "\u001b[0;31m---------------------------------------------------------------------------\u001b[0m",
      "\u001b[0;31mValueError\u001b[0m                                Traceback (most recent call last)",
      "\u001b[0;32m<ipython-input-13-19cb605c8c84>\u001b[0m in \u001b[0;36m<cell line: 39>\u001b[0;34m()\u001b[0m\n\u001b[1;32m     39\u001b[0m grad_model = tf.keras.models.Model(\n\u001b[1;32m     40\u001b[0m     \u001b[0;34m[\u001b[0m\u001b[0mmodel\u001b[0m\u001b[0;34m.\u001b[0m\u001b[0minputs\u001b[0m\u001b[0;34m]\u001b[0m\u001b[0;34m,\u001b[0m\u001b[0;34m\u001b[0m\u001b[0;34m\u001b[0m\u001b[0m\n\u001b[0;32m---> 41\u001b[0;31m     \u001b[0;34m[\u001b[0m\u001b[0mmodel\u001b[0m\u001b[0;34m.\u001b[0m\u001b[0mget_layer\u001b[0m\u001b[0;34m(\u001b[0m\u001b[0;34m'conv2d_1'\u001b[0m\u001b[0;34m)\u001b[0m\u001b[0;34m.\u001b[0m\u001b[0moutput\u001b[0m\u001b[0;34m,\u001b[0m \u001b[0mmodel\u001b[0m\u001b[0;34m.\u001b[0m\u001b[0moutput\u001b[0m\u001b[0;34m]\u001b[0m\u001b[0;34m\u001b[0m\u001b[0;34m\u001b[0m\u001b[0m\n\u001b[0m\u001b[1;32m     42\u001b[0m )\n\u001b[1;32m     43\u001b[0m \u001b[0;34m\u001b[0m\u001b[0m\n",
      "\u001b[0;32m/usr/local/lib/python3.10/dist-packages/keras/src/engine/training.py\u001b[0m in \u001b[0;36mget_layer\u001b[0;34m(self, name, index)\u001b[0m\n\u001b[1;32m   3565\u001b[0m                 \u001b[0;32mif\u001b[0m \u001b[0mlayer\u001b[0m\u001b[0;34m.\u001b[0m\u001b[0mname\u001b[0m \u001b[0;34m==\u001b[0m \u001b[0mname\u001b[0m\u001b[0;34m:\u001b[0m\u001b[0;34m\u001b[0m\u001b[0;34m\u001b[0m\u001b[0m\n\u001b[1;32m   3566\u001b[0m                     \u001b[0;32mreturn\u001b[0m \u001b[0mlayer\u001b[0m\u001b[0;34m\u001b[0m\u001b[0;34m\u001b[0m\u001b[0m\n\u001b[0;32m-> 3567\u001b[0;31m             raise ValueError(\n\u001b[0m\u001b[1;32m   3568\u001b[0m                 \u001b[0;34mf\"No such layer: {name}. Existing layers are: \"\u001b[0m\u001b[0;34m\u001b[0m\u001b[0;34m\u001b[0m\u001b[0m\n\u001b[1;32m   3569\u001b[0m                 \u001b[0;34mf\"{list(layer.name for layer in self.layers)}.\"\u001b[0m\u001b[0;34m\u001b[0m\u001b[0;34m\u001b[0m\u001b[0m\n",
      "\u001b[0;31mValueError\u001b[0m: No such layer: conv2d_1. Existing layers are: ['input_1', 'block1_conv1', 'block1_conv2', 'block1_pool', 'block2_conv1', 'block2_conv2', 'block2_pool', 'block3_conv1', 'block3_conv2', 'block3_conv3', 'block3_pool', 'block4_conv1', 'block4_conv2', 'block4_conv3', 'block4_pool', 'block5_conv1', 'block5_conv2', 'block5_conv3', 'block5_pool', 'global_average_pooling2d', 'dense', 'dense_1', 'dense_2']."
     ]
    }
   ],
   "source": [
    "import tensorflow as tf\n",
    "import cv2\n",
    "import numpy as np\n",
    "import matplotlib.pyplot as plt\n",
    "\n",
    "\n",
    "def Affected_Area(img_path):\n",
    "\n",
    "        image = cv2.imread(img_path)\n",
    "       # Convert the image to grayscale\n",
    "        gray = cv2.cvtColor(image, cv2.COLOR_BGR2GRAY)\n",
    "\n",
    "        # Apply image processing operations (e.g., thresholding, morphological operations) for stroke detection\n",
    "        _, thresholded_image = cv2.threshold(gray, 127, 255, cv2.THRESH_BINARY)\n",
    "\n",
    "        kernel = cv2.getStructuringElement(cv2.MORPH_RECT, (5, 5))\n",
    "        closed_image = cv2.morphologyEx(thresholded_image, cv2.MORPH_CLOSE, kernel)\n",
    "\n",
    "        # Find contours in the closed image\n",
    "        contours, _ = cv2.findContours(closed_image, cv2.RETR_EXTERNAL, cv2.CHAIN_APPROX_SIMPLE)\n",
    "\n",
    "        # Create a list to store the bounding boxes\n",
    "        bounding_boxes = []\n",
    "\n",
    "        # Draw bounding boxes around the contours\n",
    "        for contour in contours:\n",
    "            x, y, w, h = cv2.boundingRect(contour)\n",
    "            bounding_boxes.append((x, y, x + w, y + h))\n",
    "            cv2.rectangle(image, (x, y), (x + w, y + h), (0, 255, 0), 2)\n",
    "\n",
    "        return image\n",
    "\n",
    "\n",
    "target_class_index = 1\n",
    "img_path = '/content/gdrive/MyDrive/BrainStroke/Brain_Stroke_CT-SCAN_image/Test/Stroke/58 (12).jpg'\n",
    "img = cv2.imread(img_path)\n",
    "img = cv2.resize(img, (img_width, img_height))\n",
    "img = np.expand_dims(img, axis=0) / 255.0\n",
    "grad_model = tf.keras.models.Model(\n",
    "    [model.inputs],\n",
    "    [model.get_layer('conv2d_1').output, model.output]\n",
    ")\n",
    "\n",
    "with tf.GradientTape() as tape:\n",
    "    conv_outputs, predictions = grad_model(img)\n",
    "    loss = predictions[:, 0]  # Select the first (and only) element along the second dimension\n",
    "\n",
    "grads = tape.gradient(loss, conv_outputs)[0]\n",
    "pooled_grads = tf.reduce_mean(grads, axis=(0, 1, 2))\n",
    "\n",
    "heatmap = tf.reduce_mean(tf.multiply(pooled_grads, conv_outputs[0]), axis=-1)\n",
    "heatmap = np.maximum(heatmap, 0)\n",
    "heatmap /= np.max(heatmap)\n",
    "heatmap = cv2.resize(heatmap, (img.shape[2], img.shape[1]))\n",
    "heatmap = cv2.applyColorMap(np.uint8(255 * heatmap), cv2.COLORMAP_JET)\n",
    "\n",
    "\n",
    "superimposed_img = cv2.addWeighted(\n",
    "    np.uint8(255 * img[0]),\n",
    "    0.6,\n",
    "    np.uint8(heatmap),\n",
    "    0.4,\n",
    "    0\n",
    ")\n",
    "\n",
    "\n",
    "plt.figure(figsize=(12, 6))\n",
    "plt.subplot(1, 4, 1)\n",
    "plt.imshow(img[0])\n",
    "plt.title('Original Image')\n",
    "plt.axis('off')\n",
    "\n",
    "predicted_class = model.predict(img)\n",
    "predicted_class_index = int(predicted_class[0] >= 0.5)  # Get the index of the predicted class\n",
    "class_names = ['No Stroke', 'Stroke']  # Define the class names\n",
    "print('Class',predicted_class_index)\n",
    "\n",
    "\n",
    "if predicted_class_index == 1:\n",
    "    plt.subplot(1, 4, 2)\n",
    "    plt.imshow(superimposed_img)\n",
    "    plt.title(f'Predicted Class: {class_names[predicted_class_index]}')  # Use the predicted class index to get the class name\n",
    "    plt.axis('off')\n",
    "\n",
    "    plt.subplot(1, 4, 3)\n",
    "    plt.imshow(heatmap)\n",
    "    plt.title('Grad-CAM Heatmap')\n",
    "    plt.axis('off')\n",
    "\n",
    "    Stroke_Affected = Affected_Area(img_path)\n",
    "\n",
    "    plt.subplot(1, 4, 4)\n",
    "    plt.imshow(Stroke_Affected)\n",
    "    plt.title('Affected Part')\n",
    "    plt.axis('off')\n",
    "\n",
    "\n",
    "    plt.tight_layout()\n",
    "    plt.show()\n",
    "else:\n",
    "    plt.subplot(1, 4, 2)\n",
    "    plt.imshow(img[0])\n",
    "    plt.title(f'Predicted Class: {class_names[predicted_class_index]}')\n",
    "    plt.axis('off')"
   ]
  },
  {
   "cell_type": "code",
   "execution_count": null,
   "metadata": {
    "colab": {
     "base_uri": "https://localhost:8080/",
     "height": 526
    },
    "id": "Hp5kW-IZBCj1",
    "outputId": "60f719dd-3615-41f2-801a-f24a2d9cf405"
   },
   "outputs": [
    {
     "name": "stdout",
     "output_type": "stream",
     "text": [
      "Found 437 images belonging to 2 classes.\n",
      "14/14 [==============================] - 300s 21s/step\n"
     ]
    },
    {
     "data": {
      "image/png": "[encoded data removed]",
      "text/plain": [
       "<Figure size 700x500 with 1 Axes>"
      ]
     },
     "metadata": {},
     "output_type": "display_data"
    }
   ],
   "source": [
    "from sklearn.metrics import confusion_matrix, precision_score, recall_score, f1_score\n",
    "import matplotlib.pyplot as plt\n",
    "import seaborn as sns\n",
    "import numpy as np\n",
    "\n",
    "# Rest of the code...\n",
    "\n",
    "# Step 4: Model Evaluation\n",
    "test_generator = test_datagen.flow_from_directory(\n",
    "    test_dir,\n",
    "    target_size=(img_width, img_height),\n",
    "    batch_size=32,\n",
    "    class_mode='binary',\n",
    "    shuffle=False\n",
    ")\n",
    "\n",
    "y_pred = model.predict(test_generator)\n",
    "y_pred = np.round(y_pred).flatten()\n",
    "y_true = test_generator.classes\n",
    "\n",
    "cm = confusion_matrix(y_true, y_pred)\n",
    "precision = precision_score(y_true, y_pred)\n",
    "recall = recall_score(y_true, y_pred)\n",
    "f1 = f1_score(y_true, y_pred)\n",
    "\n",
    "\n",
    "\n",
    "# Plot confusion matrix\n",
    "label_names = ['Normal', 'Stroke']  # Replace with your class labels\n",
    "beingsaved = plt.figure(figsize=(7, 5))\n",
    "sns.heatmap(cm, annot=True, fmt='d', cmap='Blues', cbar=False)\n",
    "plt.xticks(np.arange(len(label_names)) + 0.5, label_names)\n",
    "plt.yticks(np.arange(len(label_names)) + 0.5, label_names)\n",
    "plt.xlabel('Predicted Labels',fontsize=12)\n",
    "plt.ylabel('True Labels',fontsize=12)\n",
    "plt.title('Confusion Matrix')\n",
    "beingsaved.savefig('Stroke_Confusion_Matrix.png', format='png', dpi=600, bbox_inches=\"tight\")\n",
    "plt.show()\n",
    "\n",
    "print('Precision:', precision)\n",
    "print('Recall:', recall)\n",
    "print('F1 Score:', f1)\n"
   ]
  },
  {
   "cell_type": "code",
   "execution_count": null,
   "metadata": {
    "id": "3HgXwdeTBNwD"
   },
   "outputs": [],
   "source": [
    "import tensorflow as tf\n",
    "import cv2\n",
    "import numpy as np\n",
    "import matplotlib.pyplot as plt\n",
    "\n",
    "\n",
    "def Affected_Area(img_path):\n",
    "\n",
    "    image = cv2.imread(img_path)\n",
    "    # Convert the image to grayscale\n",
    "    gray = cv2.cvtColor(image, cv2.COLOR_BGR2GRAY)\n",
    "\n",
    "    # Apply image processing operations (e.g., thresholding, morphological operations) for stroke detection\n",
    "    _, thresholded_image = cv2.threshold(gray, 127, 255, cv2.THRESH_BINARY)\n",
    "\n",
    "    kernel = cv2.getStructuringElement(cv2.MORPH_RECT, (5, 5))\n",
    "    closed_image = cv2.morphologyEx(thresholded_image, cv2.MORPH_CLOSE, kernel)\n",
    "\n",
    "    # Find contours in the closed image\n",
    "    contours, _ = cv2.findContours(closed_image, cv2.RETR_EXTERNAL, cv2.CHAIN_APPROX_SIMPLE)\n",
    "\n",
    "    # Create a list to store the bounding boxes\n",
    "    bounding_boxes = []\n",
    "\n",
    "    # Draw bounding boxes around the contours\n",
    "    for contour in contours:\n",
    "        x, y, w, h = cv2.boundingRect(contour)\n",
    "        bounding_boxes.append((x, y, x + w, y + h))\n",
    "        cv2.rectangle(image, (x, y), (x + w, y + h), (0, 255, 0), 2)\n",
    "\n",
    "    return image\n",
    "\n",
    "\n",
    "target_class_index = 1\n",
    "img_path = '/kaggle/input/brain-stroke-prediction-ct-scan-image-dataset/Brain_Stroke_CT-SCAN_image/Test/Stroke/58 (12).jpg'\n",
    "img = cv2.imread(img_path)\n",
    "img = cv2.resize(img, (img_width, img_height))\n",
    "img = np.expand_dims(img, axis=0) / 255.0\n",
    "grad_model = tf.keras.models.Model(\n",
    "    [model.inputs],\n",
    "    [model.get_layer('conv2d_1').output, model.output]\n",
    ")\n",
    "\n",
    "with tf.GradientTape() as tape:\n",
    "    conv_outputs, predictions = grad_model(img)\n",
    "    loss = predictions[:, 0]  # Select the first (and only) element along the second dimension\n",
    "\n",
    "grads = tape.gradient(loss, conv_outputs)[0]\n",
    "pooled_grads = tf.reduce_mean(grads, axis=(0, 1, 2))\n",
    "\n",
    "heatmap = tf.reduce_mean(tf.multiply(pooled_grads, conv_outputs[0]), axis=-1)\n",
    "heatmap = np.maximum(heatmap, 0)\n",
    "max_heatmap = np.max(heatmap)\n",
    "if max_heatmap != 0:\n",
    "    heatmap /= max_heatmap\n",
    "heatmap = cv2.resize(heatmap, (img.shape[2], img.shape[1]))\n",
    "heatmap = cv2.applyColorMap(np.uint8(255 * heatmap), cv2.COLORMAP_JET)\n",
    "\n",
    "superimposed_img = cv2.addWeighted(\n",
    "    np.uint8(255 * img[0]),\n",
    "    0.6,\n",
    "    np.uint8(heatmap),\n",
    "    0.4,\n",
    "    0\n",
    ")\n",
    "\n",
    "\n",
    "plt.figure(figsize=(12, 6))\n",
    "plt.subplot(1, 4, 1)\n",
    "plt.imshow(img[0])\n",
    "plt.title('Original Image')\n",
    "plt.axis('off')\n",
    "\n",
    "predicted_class = model.predict(img)\n",
    "predicted_class_index = int(predicted_class[0] >= 0.5)  # Get the index of the predicted class\n",
    "class_names = ['No Stroke', 'Stroke']  # Define the class names\n",
    "print('Class', predicted_class_index)\n",
    "\n",
    "if predicted_class_index == 1:\n",
    "    plt.subplot(1, 4, 2)\n",
    "    plt.imshow(superimposed_img)\n",
    "    plt.title(f'Predicted Class: {class_names[predicted_class_index]}')  # Use the predicted class index to get the class name\n",
    "    plt.axis('off')\n",
    "\n",
    "    plt.subplot(1, 4, 3)\n",
    "    plt.imshow(heatmap)\n",
    "    plt.title('Grad-CAM Heatmap')\n",
    "    plt.axis('off')\n",
    "\n",
    "    Stroke_Affected = Affected_Area(img_path)\n",
    "\n",
    "    plt.subplot(1, 4, 4)\n",
    "    plt.imshow(Stroke_Affected)\n",
    "    plt.title('Affected Part')\n",
    "    plt.axis('off')\n",
    "\n",
    "    plt.tight_layout()\n",
    "    plt.show()\n",
    "else:\n",
    "    plt.subplot(1, 4, 2)\n",
    "    plt.imshow(img[0])\n",
    "    plt.title(f'Predicted Class: {class_names[predicted_class_index]}')\n",
    "    plt.axis('off')"
   ]
  },
  {
   "cell_type": "code",
   "execution_count": null,
   "metadata": {
    "id": "4VhZ_EUzBXy-"
   },
   "outputs": [],
   "source": [
    "import tensorflow as tf\n",
    "import cv2\n",
    "import numpy as np\n",
    "import matplotlib.pyplot as plt\n",
    "\n",
    "def Affected_Area(img_path):\n",
    "    image = cv2.imread(img_path)\n",
    "    # Convert the image to grayscale\n",
    "    gray = cv2.cvtColor(image, cv2.COLOR_BGR2GRAY)\n",
    "\n",
    "    # Apply image processing operations (e.g., thresholding, morphological operations) for stroke detection\n",
    "    _, thresholded_image = cv2.threshold(gray, 127, 255, cv2.THRESH_BINARY)\n",
    "\n",
    "    kernel = cv2.getStructuringElement(cv2.MORPH_RECT, (5, 5))\n",
    "    closed_image = cv2.morphologyEx(thresholded_image, cv2.MORPH_CLOSE, kernel)\n",
    "\n",
    "    # Find contours in the closed image\n",
    "    contours, _ = cv2.findContours(closed_image, cv2.RETR_EXTERNAL, cv2.CHAIN_APPROX_SIMPLE)\n",
    "\n",
    "    # Create a list to store the bounding boxes\n",
    "    bounding_boxes = []\n",
    "\n",
    "    # Draw bounding boxes around the contours\n",
    "    for contour in contours:\n",
    "        x, y, w, h = cv2.boundingRect(contour)\n",
    "        bounding_boxes.append((x, y, x + w, y + h))\n",
    "        cv2.rectangle(image, (x, y), (x + w, y + h), (0, 255, 0), 2)\n",
    "\n",
    "    return image\n",
    "\n",
    "target_class_index = 1\n",
    "img_path = '/kaggle/input/brain-stroke-prediction-ct-scan-image-dataset/Brain_Stroke_CT-SCAN_image/Test/Stroke/58 (12).jpg'\n",
    "img = cv2.imread(img_path)\n",
    "img = cv2.resize(img, (img_width, img_height))\n",
    "img = np.expand_dims(img, axis=0) / 255.0\n",
    "\n",
    "grad_model = tf.keras.models.Model(\n",
    "    [model.inputs],\n",
    "    [model.get_layer('conv2d').output, model.output]  # Modify 'conv2d_1' to match the actual layer name\n",
    ")\n",
    "\n",
    "with tf.GradientTape() as tape:\n",
    "    conv_outputs, predictions = grad_model(img)\n",
    "    loss = predictions[:, 0]  # Select the first (and only) element along the second dimension\n",
    "\n",
    "grads = tape.gradient(loss, conv_outputs)[0]\n",
    "pooled_grads = tf.reduce_mean(grads, axis=(0, 1, 2))\n",
    "\n",
    "heatmap = tf.reduce_mean(tf.multiply(pooled_grads, conv_outputs[0]), axis=-1)\n",
    "heatmap = np.maximum(heatmap, 0)\n",
    "heatmap /= np.max(heatmap)\n",
    "\n",
    "heatmap = cv2.resize(heatmap, (img.shape[2], img.shape[1]))\n",
    "heatmap = cv2.applyColorMap(np.uint8(255 * heatmap), cv2.COLORMAP_JET)\n",
    "\n",
    "superimposed_img = cv2.addWeighted(\n",
    "    np.uint8(255 * img[0]),\n",
    "    0.6,\n",
    "    np.uint8(heatmap),\n",
    "    0.4,\n",
    "    0\n",
    ")\n",
    "\n",
    "plt.figure(figsize=(12, 6))\n",
    "plt.subplot(1, 4, 1)\n",
    "plt.imshow(img[0])\n",
    "plt.title('Original Image')\n",
    "plt.axis('off')\n",
    "\n",
    "predicted_class = model.predict(img)\n",
    "predicted_class_index = int(predicted_class[0] >= 0.5)  # Get the index of the predicted class\n",
    "class_names = ['No Stroke', 'Stroke']  # Define the class names\n",
    "\n",
    "if predicted_class_index == 1:\n",
    "    plt.subplot(1, 4, 2)\n",
    "    plt.imshow(superimposed_img)\n",
    "    plt.title(f'Predicted Class: {class_names[predicted_class_index]}')\n",
    "    plt.axis('off')\n",
    "\n",
    "    plt.subplot(1, 4, 3)\n",
    "    plt.imshow(heatmap)\n",
    "    plt.title('Grad-CAM Heatmap')\n",
    "    plt.axis('off')\n",
    "\n",
    "    Stroke_Affected = Affected_Area(img_path)\n",
    "\n",
    "    plt.subplot(1, 4, 4)\n",
    "    plt.imshow(Stroke_Affected)\n",
    "    plt.title('Affected Area')\n",
    "    plt.axis('off')\n",
    "\n",
    "    plt.tight_layout()\n",
    "    plt.show()\n",
    "else:\n",
    "    plt.subplot(1, 4, 2)\n",
    "    plt.imshow(img[0])\n",
    "    plt.title(f'Predicted Class: {class_names[predicted_class_index]}')\n",
    "    plt.axis('off')"
   ]
  }
 ],
 "metadata": {
  "colab": {
   "provenance": []
  },
  "kernelspec": {
   "display_name": "Python 3 (ipykernel)",
   "language": "python",
   "name": "python3"
  },
  "language_info": {
   "codemirror_mode": {
    "name": "ipython",
    "version": 3
   },
   "file_extension": ".py",
   "mimetype": "text/x-python",
   "name": "python",
   "nbconvert_exporter": "python",
   "pygments_lexer": "ipython3",
   "version": "3.10.9"
  }
 },
 "nbformat": 4,
 "nbformat_minor": 1
}
